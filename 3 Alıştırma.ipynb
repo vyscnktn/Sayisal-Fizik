{
 "cells": [
  {
   "attachments": {
    "image.png": {
     "image/png": "[encoded data removed]"
    }
   },
   "cell_type": "markdown",
   "metadata": {},
   "source": [
    "Alıştırma-1\n",
    "\n",
    "\n",
    "![image.png](attachment:image.png)\n",
    "\n",
    "f(100000) ve g(100000) değerlerini hesaplayan bir program yazalım. "
   ]
  },
  {
   "cell_type": "code",
   "execution_count": 10,
   "metadata": {
    "scrolled": true
   },
   "outputs": [
    {
     "name": "stdout",
     "output_type": "stream",
     "text": [
      "158.1134877255863\n",
      "158.11348772568783\n"
     ]
    }
   ],
   "source": [
    "from math import *\n",
    "\n",
    "a=100000\n",
    "def f(x):\n",
    "    return x*(((x+1)**(1/2))-x**(1/2))\n",
    "\n",
    "def g(x):\n",
    "    return x/(((x+1)**(1/2))+x**(1/2))\n",
    "\n",
    "print (f(a))\n",
    "print (g(a))\n"
   ]
  },
  {
   "cell_type": "markdown",
   "metadata": {},
   "source": [
    "Bu fonksiyonları göstermenin ve hesaplamanın birçok yolu var elbette. Ben fazladan fonksiyon ve kütüphane kullanmamak adına bu şekilde yazmak istedim.\n",
    "NOT: \"**\" operatörü (yan yana 2 adet çarpım işareti) üs almak için kullanılır."
   ]
  },
  {
   "cell_type": "markdown",
   "metadata": {},
   "source": [
    "Peki hangisi gerçek değerine en yakın sonucu verdi?\n",
    "\n",
    "Bu çözümde yaptığımız hata yuvarlama hatasıdır. Denklemi doğru şekilde yazmış olsaydık iki sonuç birbirine eşit olurdu. Doğru sonucu bilmesek bile bir yerde yanlış olduğunu bilmek mümkün.\n",
    "\n",
    "Dikkat etmemiz gereken şey birbirine yakın sayıları çıkarmaktan kaçınmaktır.\n",
    "\n",
    "Bu sebeple f fonksiyonundaki işlem \"Yuvarlama Hatasına\" sebep olmaktadır. İşlemde yapılan hatayı en aza indirmek için f denkleminde pay ve paydayı köşeli parantez içinde kalan kısmın eşleniği ( √¯x+1 + √¯x )ile çarparız. Bu işlem sonucu zaten g(x) fonksiyonunu vermektedir. \n",
    "\n",
    "Yani gerçek değerine en yakın sonucu veren g(x) fonksiyonu olur.\n"
   ]
  }
 ],
 "metadata": {
  "kernelspec": {
   "display_name": "Python 3",
   "language": "python",
   "name": "python3"
  },
  "language_info": {
   "codemirror_mode": {
    "name": "ipython",
    "version": 3
   },
   "file_extension": ".py",
   "mimetype": "text/x-python",
   "name": "python",
   "nbconvert_exporter": "python",
   "pygments_lexer": "ipython3",
   "version": "3.7.6"
  }
 },
 "nbformat": 4,
 "nbformat_minor": 4
}
