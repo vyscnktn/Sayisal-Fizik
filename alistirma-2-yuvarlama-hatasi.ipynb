{
 "cells": [
  {
   "attachments": {
    "denkleminkokleri.png": {
     "image/png": "[encoded data removed]"
    },
    "image.png": {
     "image/png": "[encoded data removed]"
    },
    "koklercarpimi.png": {
     "image/png": "[encoded data removed]"
    }
   },
   "cell_type": "markdown",
   "metadata": {},
   "source": [
    "Alıştırma-2\n",
    "\n",
    "İkinci dereceden ax² + bx + c = 0 denkleminin çözümünü biliyoruz. Diskriminant hesaplanması ve  bunun yardımıyla köklerinin bulunması ile çözülüyordu\n",
    "\n",
    "![denkleminkokleri.png](attachment:denkleminkokleri.png)\n",
    "\n",
    "|b| ≈ √(b²-4ac) ise iki terimin çıkarıldığı kökte yuvarlama hatası büyük olur. Oysa, köklerin çarpımı c olacağına göre payında toplama olan kök x1 ise diğeri,\n",
    "\n",
    "![koklercarpimi.png](attachment:koklercarpimi.png)\n",
    "\n",
    "şeklinde hesaplanabilir. Buradan yola çıkarak \n",
    "\n",
    "![image.png](attachment:image.png)\n",
    "\n",
    "denkleminin köklerini bulan bir script yazalım."
   ]
  },
  {
   "cell_type": "code",
   "execution_count": null,
   "metadata": {},
   "outputs": [],
   "source": [
    "from math import *\n",
    "\n",
    "\n",
    "\n",
    "a=float(input(\"a\"))\n",
    "b=float(input(\"b\"))\n",
    "c=float(input(\"c\"))\n",
    "def f(a,b,c,x,y):\n",
    "    return (a*x*x)+(b*y)+c\n",
    "print(a,b,c)\n",
    "\n",
    "x1=(-1*b-((b*b-4*a*c)*(1/2)))/2*a\n",
    "x2=c/x1\n",
    "print(\"denklemin 1. kökü \",x1)\n",
    "print(\"denklemin 2. kökü \",x2)\n",
    "\n",
    "if x1 >= 0:\n",
    "    print(f(a,b,c,x1,x1))\n",
    "    else:\n",
    "        print(\"x1 reel kök değil\")\n",
    "    \n",
    "if x2 >=0:\n",
    "    print(f(a,b,c,x2,x2))\n",
    "    else:\n",
    "        print(\"x2 reel kök değil\")"
   ]
  },
  {
   "attachments": {
    "image.png": {
     "image/png": "[encoded data removed]"
    }
   },
   "cell_type": "markdown",
   "metadata": {},
   "source": [
    "Sizde aşağıda verilen denklemleri bu yöntemle hesaplayabilirsiniz.\n",
    "\n",
    "![image.png](attachment:image.png)"
   ]
  }
 ],
 "metadata": {
  "kernelspec": {
   "display_name": "Python 3",
   "language": "python",
   "name": "python3"
  },
  "language_info": {
   "codemirror_mode": {
    "name": "ipython",
    "version": 3
   },
   "file_extension": ".py",
   "mimetype": "text/x-python",
   "name": "python",
   "nbconvert_exporter": "python",
   "pygments_lexer": "ipython3",
   "version": "3.7.6"
  }
 },
 "nbformat": 4,
 "nbformat_minor": 4
}
