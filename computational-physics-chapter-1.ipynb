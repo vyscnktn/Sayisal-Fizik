{
 "cells": [
  {
   "cell_type": "markdown",
   "metadata": {},
   "source": [
    "# SAYISAL FİZİK (COMPUTATIONAL PHYSICS)"
   ]
  },
  {
   "cell_type": "markdown",
   "metadata": {},
   "source": [
    "SAYI TEMSİLLERİ BİT VE BAYT\n",
    "\n",
    "En küçük hafıza birimine bit adı verilir(binary digit). \n",
    "Bir bit, 0 veya 1 değerini alabilir. \n",
    "Sayılar bilgisayarda ikilik tabanda temsil edilir. \n",
    "Sekiz bitten oluşan hafıza birimine bayt adı verilir.\n",
    "2^8=256 farklı değer alabilir. 0,1,....255 sayısına kadar temsil edebilir. \n",
    "Temsil edilmesi bakımında iki gruba ayrılır:\n"
   ]
  },
  {
   "cell_type": "markdown",
   "metadata": {},
   "source": [
    "TAMSAYILAR\n",
    "\n",
    "Belli bir büyüklüğe kadar tamsayılar bilgisayarda tam doğru olarak temsil edilir. \n",
    "Ayrılan bayt sayısına  göre tamsayıların temsil aralığı değişir:  "
   ]
  },
  {
   "attachments": {
    "13sayisi.png": {
     "image/png": "[encoded data removed]"
    },
    "eksi13sayisi.png": {
     "image/png": "[encoded data removed]"
    },
    "ikiliktaban.png": {
     "image/png": "[encoded data removed]"
    }
   },
   "cell_type": "markdown",
   "metadata": {},
   "source": [
    "16 BİT YADA 2 BAYTLIK TAMSAYILAR\n",
    "\n",
    "En basit temsilde, tamsayılar 16 bit yani 2 baytlık alanda saklanır. Her bit 2 değer alabildiğine göre 2^16=65536 sayıda değer alabilir. \n",
    "Negatif ve pozitif aralıklara dağıtırsak\n",
    "\n",
    "                -32768< 2-baytlık tamsayılar < 32767\n",
    "    \n",
    "aralığında olabilirler. Negatif sayıların birinci biti 1 alınır.\n",
    "Örnek olarak, 13 sayısının temsilini görelim. Bu iki sayıyı ikilik tabanda yazarsak,\n",
    "![ikiliktaban.png](attachment:ikiliktaban.png)\n",
    "\n",
    "olur. Buna göre, 13 sayısı hafızada şöyle saklanır:\n",
    "\n",
    "![13sayisi.png](attachment:13sayisi.png)\n",
    "\n",
    "-13 sayısı ise, birinci biti tersine çevirerek elde edilir:![eksi13sayisi.png](attachment:eksi13sayisi.png)\n"
   ]
  },
  {
   "cell_type": "markdown",
   "metadata": {},
   "source": [
    "32 BİT YADA 4 BAYTLIK TAMSAYILAR\n",
    "\n",
    "Daha büyük aralıkta tamsayılar gerektiğinde 32 bit= 4 bayt yer kullanılır. Bu alana 2^32=4294967296 sayıda değer alabilir; bu değer negatif ve pozitif sayılara şu şekilde paylaştırılır:\n",
    "\n",
    "        -2147483648 < 32-baytlık tamsayılar < +2147483647\n",
    "        \n",
    "Bu sayılarda ikilik tabanda aynı şekilde gösterilir. 16 bitlik sayılar \"int\" komutuyla tanımlanır. 32 bitlik sayılar ise \"long\" komutuyla yada \"L\" harfi eklenerek tanımlanır. Bu tanım python 2.x sürümleri için geçerli. Python 3.x sürümlerinde \"int\" tipindeki değişkenler 64 bite kadar olan sayıları tutabilmektedir.\n",
    "\n",
    "Örneğin;\n",
    "    a=59,\n",
    "    b=578329567L\n",
    "    olsun.\n",
    "        \n",
    "        "
   ]
  },
  {
   "cell_type": "code",
   "execution_count": 32,
   "metadata": {
    "scrolled": true
   },
   "outputs": [
    {
     "name": "stdout",
     "output_type": "stream",
     "text": [
      "<class 'int'>\n",
      "<class 'int'>\n"
     ]
    },
    {
     "data": {
      "text/plain": [
       "'type() fonksiyonu değişkenin tipini verir.'"
      ]
     },
     "execution_count": 32,
     "metadata": {},
     "output_type": "execute_result"
    }
   ],
   "source": [
    "a=59\n",
    "b=7832956789125768738\n",
    "print(type(a))\n",
    "print(type(b))\n",
    "\"\"\"type() fonksiyonu değişkenin tipini verir.\"\"\""
   ]
  },
  {
   "cell_type": "markdown",
   "metadata": {},
   "source": [
    "REEL SAYILAR\n",
    "\n",
    "Reel sayılar ancak sınırlı sayıda haneyle temsil edilirler. √2= 1.41421... sayısının ondalık hanesi istenildiği kadar uzataılabilir, ne zaman (√2)² görürsek 2 değerini alırız. Fakat bilgisayarda 7-8 hane belleğe alınır ve tüm işlemler bununla yapılır. \n",
    "Reel sayıların hafızada saklanma kuralı \n",
    "\n",
    "                    ±0.XXX*10^Y \n",
    "                    \n",
    "şeklindedir.\n",
    "\n",
    "                    923.68 = +0.92368*10^3\n",
    "                    0.00000874 = 0.874*10^-5\n",
    "                    -3.56 = -0.356*10^9\n",
    "Buna göre reel sayıların 3 bileşeni vardır:\n",
    "\n",
    "- İşaret (±),\n",
    "- Ondalık Hanesindeki Sayılar (mantis, yani yukarıdaki örneklere göre 92368, 874, 356),\n",
    "- Üs (3, -5, 9).\n",
    "\n",
    "Birçok dilde karşılaşılan reel sayı karmaşası python'da bulunmamaktadır. Reel sayılar \"float\" komutuyla çift-duyarlı yani 64-bitlik tanımlanırlar. Bir değişkene ondalık değer girdiğinzde otomatik olarak \"float\" tipinde tanımlar. Anlamadıysanız merak etmeyin örnekte gayet anlaşılır olacak."
   ]
  },
  {
   "cell_type": "code",
   "execution_count": 39,
   "metadata": {},
   "outputs": [
    {
     "name": "stdout",
     "output_type": "stream",
     "text": [
      "2.71\n",
      "<class 'float'>\n",
      "30.0\n",
      "<class 'float'>\n",
      "5\n",
      "<class 'int'>\n",
      "tip dönüşümü yapmış olduk\n",
      " <class 'float'>\n"
     ]
    }
   ],
   "source": [
    "e=2.71\n",
    "print(e)\n",
    "print(type(e))\n",
    "d=30.00\n",
    "print(d)\n",
    "print(type(d))\n",
    "h=5\n",
    "print(h)\n",
    "print(type(h))\n",
    "g=float(h)\n",
    "print(\"tip dönüşümü yapmış olduk\\n\",type(g))\n"
   ]
  },
  {
   "cell_type": "markdown",
   "metadata": {},
   "source": [
    "SAYISAL HATA TÜRLERİ"
   ]
  },
  {
   "cell_type": "markdown",
   "metadata": {},
   "source": [
    "1. YUVARLAMA HATASI\n",
    "\n",
    "Reel sayılar hafızalarını sınırlı duyarlılıkta saklayabiliyordu. Örneğin pi sayısı:\n",
    "                π = 3.14159265359\n",
    "Bazı derleyiciler 6-7 haneden sonrasını doğrudan kesip atar, bazılarıda bir önceki haneye yuvarlar, hangisi olursa olsun buna yuvarlama hatası denir. Her zaman A-A=0 olmayabilir. Örneğin a-(a/b)*b ifadesini hesaplayan basit bir program yazalım."
   ]
  },
  {
   "cell_type": "code",
   "execution_count": 41,
   "metadata": {},
   "outputs": [
    {
     "name": "stdout",
     "output_type": "stream",
     "text": [
      "-5.551115123125783e-17\n"
     ]
    }
   ],
   "source": [
    "from math import *\n",
    "\n",
    "a=cos(1.1)\n",
    "b=sin(1.1)\n",
    "\n",
    "z= a-(a/b)*b\n",
    "print(z)"
   ]
  },
  {
   "cell_type": "markdown",
   "metadata": {},
   "source": [
    "Kağıt üzerinde yapıldığında sonucun \"0\" olacağı gayet açıktı. Sonucun \"0\" olmaması a ve b sayılarının bellekte sınırlı ondalık haneye sahip olmasıdır."
   ]
  },
  {
   "attachments": {
    "ftureva.png": {
     "image/png": "[encoded data removed]"
    },
    "hmertebesindehata.png": {
     "image/png": "[encoded data removed]"
    },
    "tayloracilimi.png": {
     "image/png": "[encoded data removed]"
    },
    "tayloracilimibirincit%C3%BCrev.png": {
     "image/png": "[encoded data removed]"
    }
   },
   "cell_type": "markdown",
   "metadata": {},
   "source": [
    "2. KESME HATASI\n",
    "\n",
    "Bir hesaplamada kullanılan matematiksel yöntemin yaklaşık oluşundan kaynaklanan hata türüne kesme hatası denir. Örneğin f(x) fonksiyonunun bir a noktası civarındaki Taylor açlımını gözönüne alalım \"x = a + h\" alınırsa,\n",
    "\n",
    "![tayloracilimi.png](attachment:tayloracilimi.png)\n",
    "\n",
    "olur. Buradan 1. türevi çekip alırsak,\n",
    "\n",
    "![tayloracilimibirincit%C3%BCrev.png](attachment:tayloracilimibirincit%C3%BCrev.png)\n",
    "\n",
    "olur. Pratik hesaplarda bu sonsuz terimli seriyi bir yerde kesmek gerekir, çünkü bilgisayarda sonsuz sayıda işlem yapılamaz. Örneğin, sadece ilk terimi alırsak, kalan terimler h ile orantılı bir hata oluştururlar:\n",
    "\n",
    "![hmertebesindehata.png](attachment:hmertebesindehata.png)\n",
    "\n",
    "Burada O(h) yazılımına \"h mertebesinden hata\" adı verilir.\n",
    "\n",
    "Kesme hatası, kullanılan yöntem ve sayısal değerlere bağlı olarak, bizim elimizde olan bir hatadır. Örneğin türev hesabında hata payını azaltmak için 2 şey yapabiliriz:\n",
    "\n",
    "- Taylor serisini 2. veya daha yüksek türevli terimlerden sonra kesebiliriz. Bu matematiksel yöntemin iyileştirilmesi demektir.\n",
    "\n",
    "- Hata payı O(h) mertebesinde olduğuna göre, h adım uzunluğunu küçültürsek, kesme hatasıda küçülecektir. Bu sayısal yöntemin iyileştirilmesi anlamına gelir. Örneğin, 1. türevli Taylor açılımında h = 0.01 aldığımızda yapılan hata, h = 0.1 alınarak yapılan hatandan yaklaşık 10 kez daha küçük olur.\n",
    "\n",
    "Ancak, h adım uzunluğunu küçültmenin de bir sınırı vardır. Belli bir değerden daha küçük olduğunda, bu kez yuvarlama hatası etkin olmaya başlar. Çünkü, çok küçük sayılarla çok büyük sayıları birlikte kullanmış oluruz.\n",
    "\n",
    "Bu etkiyi görmek için f'(a) türevini,\n",
    "\n",
    "![ftureva.png](attachment:ftureva.png)\n",
    "\n",
    "ifadesiyle hesaplayalım. Örnek olarak, f(x) = sinx fonksiyonuna a = 1 noktasındaki türevini değişik h adım uzunluklarıyla hesaplayalım ve gerçek türevi olan cosx ile karşılaştıralım."
   ]
  },
  {
   "cell_type": "code",
   "execution_count": 77,
   "metadata": {},
   "outputs": [
    {
     "name": "stdout",
     "output_type": "stream",
     "text": [
      "0.10000000000000 0.0678264420 0.4724758639\n",
      "0.01000000000000 0.4973637525 0.0429385533\n",
      "0.00100000000000 0.5360859810 0.0042163249\n",
      "0.00010000000000 0.5398814804 0.0004208255\n",
      "0.00001000000000 0.5402602314 0.0000420744\n",
      "0.00000100000000 0.5402980985 0.0000042074\n",
      "0.00000010000000 0.5403018851 0.0000004207\n",
      "0.00000001000000 0.5403022640 0.0000000418\n",
      "0.00000000100000 0.5403023029 0.0000000030\n",
      "0.00000000010000 0.5403023584 -0.0000000525\n",
      "0.00000000001000 0.5403022474 0.0000000585\n",
      "0.00000000000100 0.5403011372 0.0000011687\n",
      "0.00000000000010 0.5403455461 -0.0000432402\n",
      "0.00000000000001 0.5395683900 0.0007339159\n",
      "\n",
      "Türevin gerçek değeri 0.5403023058681398\n"
     ]
    }
   ],
   "source": [
    "from math import *\n",
    "\n",
    "def f(x):\n",
    "    return sin(x)\n",
    "\n",
    "a=1.0\n",
    "h=1.0\n",
    "\n",
    "for i in range(14):\n",
    "    f1=(f(a+h)-f(a))/h\n",
    "    h=h/10.0\n",
    "    print(\"%.14f\" %h,\"%.10f\" %f1,\"%.10f\" % float(cos(a)-f1))\n",
    "\n",
    "\n",
    "print(\"\\nTürevin gerçek değeri\", cos(a))\n",
    "    "
   ]
  },
  {
   "cell_type": "markdown",
   "metadata": {},
   "source": [
    "Bu sonuçlara bakarak şu gözlemleri yapabiliriz:\n",
    "\n",
    "- h adım uzunluğu küçüldüğünde, gerçekten de kesme hatası azalmaktadır. Türevi en doğru veren sonuç h =( 0.1*10^9 )\n",
    "\n",
    "- Fakat, h adımı daha da küçüldüğünde sonuçlarda hata payı artmaktadır. Bu etki yuvarlama hatasından, yani bilgisayarda reel sayıların temsilinin sınırlı oluşundan kaynaklanmaktadır."
   ]
  }
 ],
 "metadata": {
  "kernelspec": {
   "display_name": "Python 3",
   "language": "python",
   "name": "python3"
  },
  "language_info": {
   "codemirror_mode": {
    "name": "ipython",
    "version": 3
   },
   "file_extension": ".py",
   "mimetype": "text/x-python",
   "name": "python",
   "nbconvert_exporter": "python",
   "pygments_lexer": "ipython3",
   "version": "3.7.6"
  }
 },
 "nbformat": 4,
 "nbformat_minor": 4
}
