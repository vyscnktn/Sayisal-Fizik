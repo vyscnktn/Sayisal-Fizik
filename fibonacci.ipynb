{
 "cells": [
  {
   "attachments": {
    "image.png": {
     "image/png": "[encoded data removed]"
    }
   },
   "cell_type": "markdown",
   "metadata": {},
   "source": [
    "Her sayının kendinden önceki sayı ile toplanması sonucu elde edilen dizidir.\n",
    "\n",
    "![image.png](attachment:image.png)\n",
    "\n",
    "şeklindeki bağıntıyla verilir. Fn=2,3,5,8,13,.... olarak devam eder."
   ]
  },
  {
   "attachments": {
    "image.png": {
     "image/png": "[encoded data removed]"
    }
   },
   "cell_type": "markdown",
   "metadata": {},
   "source": [
    "Bu durumda genel olarak n'inci Fibonacci sayısı F(n) şu şekilde ifade edilir:\n",
    "![image.png](attachment:image.png)"
   ]
  },
  {
   "cell_type": "markdown",
   "metadata": {},
   "source": [
    "50. terime kadar her iki ifade ile hesaplayan script yazalım. "
   ]
  },
  {
   "cell_type": "code",
   "execution_count": 11,
   "metadata": {},
   "outputs": [
    {
     "name": "stdout",
     "output_type": "stream",
     "text": [
      "[1, 1, 2, 3, 5, 8, 13, 21, 34, 55, 89, 144, 233, 377, 610, 987, 1597, 2584, 4181, 6765, 10946, 17711, 28657, 46368, 75025, 121393, 196418, 317811, 514229, 832040, 1346269, 2178309, 3524578, 5702887, 9227465, 14930352, 24157817, 39088169, 63245986, 102334155, 165580141, 267914296, 433494437, 701408733, 1134903170, 1836311903, 2971215073, 4807526976, 7778742049, 12586269025, 20365011074, 32951280099, 53316291173]\n"
     ]
    }
   ],
   "source": [
    "a=1\n",
    "b=1\n",
    "list=[a,b]\n",
    "for i in range(51):\n",
    "    a,b = b,a+b\n",
    "    list.append(b)\n",
    "    \n",
    "print(list)    "
   ]
  },
  {
   "cell_type": "code",
   "execution_count": 15,
   "metadata": {},
   "outputs": [
    {
     "name": "stdout",
     "output_type": "stream",
     "text": [
      "0.0\n",
      "1.223606797749979\n",
      "1.8354101966249685\n",
      "4.354837387624885\n",
      "8.934839220468474\n",
      "19.10281497884309\n",
      "40.350078849865675\n",
      "85.53102772250442\n",
      "181.11548052259994\n",
      "383.63478961901296\n",
      "812.5354263769875\n",
      "1720.987598810227\n",
      "3645.104079874511\n",
      "7720.458133762889\n",
      "16352.190387465525\n",
      "34634.4964826542\n",
      "73357.03983642832\n",
      "155372.70424205618\n",
      "329084.668166009\n",
      "697012.5125638575\n",
      "1476296.1920633323\n",
      "3126845.5123330695\n",
      "6622765.072641528\n",
      "14027241.52339132\n",
      "29710174.31492757\n",
      "62927159.01071253\n",
      "133281861.60015105\n",
      "282295512.95298386\n",
      "597911491.3060033\n",
      "1266396860.850254\n",
      "2682271594.5270076\n",
      "5681142404.266581\n",
      "12032852707.164913\n",
      "25485991015.39647\n",
      "53980195207.58417\n",
      "114331888169.01747\n",
      "242158825139.931\n",
      "512900622322.11633\n",
      "1086340950929.2155\n",
      "2300907057438.9604\n",
      "4873399352610.224\n",
      "10322025469580.188\n",
      "21862400777312.934\n",
      "46305307922020.914\n",
      "98076216038370.06\n",
      "207728759057245.34\n",
      "439976572124083.25\n",
      "931885334012477.9\n",
      "1973764811055976.8\n",
      "4180500955615072.5\n",
      "8854443113994140.0\n"
     ]
    }
   ],
   "source": [
    "i=0\n",
    "def fibonacci(a):\n",
    "    return(1/(5**(1/2))*(((1+(5**(1/2))/2)**a)-(((1-(5**(1/2)))/2)**a)))\n",
    "for i in range(51):\n",
    "    x=fibonacci(i)\n",
    "    i=i+1\n",
    "    print(x)"
   ]
  },
  {
   "cell_type": "markdown",
   "metadata": {},
   "source": [
    "Gördüğünüz gibi bu işlem o kadar karmaşık bir hal aldı ki belki işlem önceliklerini, parantezleri vs. karıştırmış bile olabiliriz. Bu sebeple terimleri bölüp ayrı değişkenlere aktararak yapmak daha doğru olacaktır. Bu script ile doğru sonuca yada olması gereken sonuca ulaşamamış olabiliriz. "
   ]
  },
  {
   "cell_type": "code",
   "execution_count": 20,
   "metadata": {},
   "outputs": [
    {
     "name": "stdout",
     "output_type": "stream",
     "text": [
      "0.0\n",
      "1.0\n",
      "1.0\n",
      "2.0\n",
      "3.0000000000000004\n",
      "5.000000000000001\n",
      "8.000000000000002\n",
      "13.000000000000002\n",
      "21.000000000000004\n",
      "34.00000000000001\n",
      "55.000000000000014\n",
      "89.00000000000003\n",
      "144.00000000000006\n",
      "233.00000000000006\n",
      "377.00000000000017\n",
      "610.0000000000003\n",
      "987.0000000000005\n",
      "1597.000000000001\n",
      "2584.000000000002\n",
      "4181.000000000003\n",
      "6765.000000000005\n",
      "10946.000000000007\n",
      "17711.00000000001\n",
      "28657.000000000022\n",
      "46368.00000000004\n",
      "75025.00000000006\n",
      "121393.0000000001\n",
      "196418.00000000017\n",
      "317811.0000000003\n",
      "514229.00000000047\n",
      "832040.0000000008\n",
      "1346269.0000000012\n",
      "2178309.0000000023\n",
      "3524578.0000000037\n",
      "5702887.0000000065\n",
      "9227465.000000011\n",
      "14930352.000000019\n",
      "24157817.000000026\n",
      "39088169.00000005\n",
      "63245986.000000075\n",
      "102334155.00000013\n",
      "165580141.00000024\n",
      "267914296.00000036\n",
      "433494437.00000066\n",
      "701408733.0000011\n",
      "1134903170.0000017\n",
      "1836311903.0000026\n",
      "2971215073.000005\n",
      "4807526976.000008\n",
      "7778742049.000013\n",
      "12586269025.000021\n"
     ]
    }
   ],
   "source": [
    "i=1\n",
    "def fibonacci(a):\n",
    "    k=5**(1/2) \n",
    "    x=((1+(k))/2)**a \n",
    "    y=((1-(k))/2)**a \n",
    "    return (1/k)*(x-y)\n",
    "for i in range(51):\n",
    "    f=fibonacci(i)\n",
    "    print(f)"
   ]
  },
  {
   "cell_type": "markdown",
   "metadata": {},
   "source": [
    "Burada ise ilk göze çarpan yuvarlama hatası. Birinci terimi eşleniği ile çarparak denklemi tekrardan düzenlememiz gerekebilir. Bu tek başına sorunun çözülmesine yardımcı olmayacaktır. Bilgisayar √5 sayısını hesaplarken belleğe alabileceği hane sayısı sınırlı olduğundan eksik hesaplayacaktır. Bu örnek için bizi doğru sonuca ulaştıracak formül, kendinden önceki sayıyla toplayan basit scripttir."
   ]
  }
 ],
 "metadata": {
  "kernelspec": {
   "display_name": "Python 3",
   "language": "python",
   "name": "python3"
  },
  "language_info": {
   "codemirror_mode": {
    "name": "ipython",
    "version": 3
   },
   "file_extension": ".py",
   "mimetype": "text/x-python",
   "name": "python",
   "nbconvert_exporter": "python",
   "pygments_lexer": "ipython3",
   "version": "3.7.6"
  }
 },
 "nbformat": 4,
 "nbformat_minor": 4
}
